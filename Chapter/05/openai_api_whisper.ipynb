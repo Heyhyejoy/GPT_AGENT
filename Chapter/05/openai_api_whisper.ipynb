{
 "cells": [
  {
   "cell_type": "code",
   "execution_count": 3,
   "id": "7383a9af",
   "metadata": {},
   "outputs": [],
   "source": [
    "from openai import OpenAI\n",
    "from dotenv import load_dotenv\n",
    "import os\n",
    "\n",
    "load_dotenv()\n",
    "api_key = os.getenv(\"OPENAI_API_KEY\")\n",
    "client = OpenAI(api_key=api_key)"
   ]
  },
  {
   "cell_type": "code",
   "execution_count": null,
   "id": "76567791",
   "metadata": {},
   "outputs": [
    {
     "data": {
      "text/plain": [
       "Transcription(text='솔직히 그래도 도망치는 느낌이어 가지고 그냥 단 하루를 사귀더라도 나와서 사귀어 보자 해서 나왔는데 안 됐어요 아 그렇군요 별로는 안 됐어요 이번에는 민호님한테만 질문을 드릴게요', usage={'type': 'duration', 'seconds': 18})"
      ]
     },
     "execution_count": 5,
     "metadata": {},
     "output_type": "execute_result"
    }
   ],
   "source": [
    "audio_file_path = './audio/whisper_openai.mp3'\n",
    "\n",
    "with open(audio_file_path, \"rb\") as audio_file:\n",
    "    transcription = client.audio.transcriptions.create(\n",
    "        model=\"whisper-1\",\n",
    "        file=audio_file,\n",
    "    )\n",
    "\n",
    "transcription"
   ]
  },
  {
   "cell_type": "code",
   "execution_count": null,
   "id": "afd56a9f",
   "metadata": {},
   "outputs": [],
   "source": [
    "audio_file_path = './audio/whisper_openai.mp3'\n",
    "\n",
    "with open(audio_file_path, \"rb\") as audio_file:\n",
    "    transcription = client.audio.translations.create(\n",
    "        model=\"whisper-1\",\n",
    "        file=audio_file,\n",
    "    )\n",
    "\n",
    "transcription"
   ]
  }
 ],
 "metadata": {
  "kernelspec": {
   "display_name": "venv",
   "language": "python",
   "name": "python3"
  },
  "language_info": {
   "codemirror_mode": {
    "name": "ipython",
    "version": 3
   },
   "file_extension": ".py",
   "mimetype": "text/x-python",
   "name": "python",
   "nbconvert_exporter": "python",
   "pygments_lexer": "ipython3",
   "version": "3.12.0"
  }
 },
 "nbformat": 4,
 "nbformat_minor": 5
}
